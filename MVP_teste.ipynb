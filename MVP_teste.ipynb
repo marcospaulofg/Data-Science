{
  "nbformat": 4,
  "nbformat_minor": 0,
  "metadata": {
    "colab": {
      "provenance": [],
      "authorship_tag": "ABX9TyOpAwSkT10Db7/S2mmgfPOc",
      "include_colab_link": true
    },
    "kernelspec": {
      "name": "python3",
      "display_name": "Python 3"
    },
    "language_info": {
      "name": "python"
    }
  },
  "cells": [
    {
      "cell_type": "markdown",
      "metadata": {
        "id": "view-in-github",
        "colab_type": "text"
      },
      "source": [
        "<a href=\"https://colab.research.google.com/github/marcospaulofg/Data-Science/blob/main/MVP_teste.ipynb\" target=\"_parent\"><img src=\"https://colab.research.google.com/assets/colab-badge.svg\" alt=\"Open In Colab\"/></a>"
      ]
    },
    {
      "cell_type": "code",
      "source": [
        "!pip install gdown"
      ],
      "metadata": {
        "id": "CJC0wHiSUOKf"
      },
      "execution_count": null,
      "outputs": []
    },
    {
      "cell_type": "code",
      "source": [
        "!gdown --id 1TT7mvuPT9tE0mqMaWbeRkryUNZFgxijh -O arquivo.tar"
      ],
      "metadata": {
        "colab": {
          "base_uri": "https://localhost:8080/"
        },
        "id": "rIcR7wv1OuF7",
        "outputId": "05a30e97-a4ba-4ea7-b88d-cfab4f3c09f6"
      },
      "execution_count": 1,
      "outputs": [
        {
          "output_type": "stream",
          "name": "stdout",
          "text": [
            "/usr/local/lib/python3.10/dist-packages/gdown/__main__.py:140: FutureWarning: Option `--id` was deprecated in version 4.3.1 and will be removed in 5.0. You don't need to pass it anymore to use a file ID.\n",
            "  warnings.warn(\n",
            "Downloading...\n",
            "From (original): https://drive.google.com/uc?id=1TT7mvuPT9tE0mqMaWbeRkryUNZFgxijh\n",
            "From (redirected): https://drive.google.com/uc?id=1TT7mvuPT9tE0mqMaWbeRkryUNZFgxijh&confirm=t&uuid=e8c18f3c-844e-4d7a-8238-d5f010124cd1\n",
            "To: /content/arquivo.tar\n",
            "100% 133M/133M [00:06<00:00, 20.6MB/s]\n"
          ]
        }
      ]
    },
    {
      "cell_type": "code",
      "source": [
        "!tar -xf arquivo.tar"
      ],
      "metadata": {
        "id": "gaL7VphsO2DZ"
      },
      "execution_count": 2,
      "outputs": []
    },
    {
      "cell_type": "code",
      "source": [
        "len(os.listdir('/content'))"
      ],
      "metadata": {
        "colab": {
          "base_uri": "https://localhost:8080/"
        },
        "id": "LOZnduNvV6Cm",
        "outputId": "b3c76738-8199-40a5-f974-80e2be1e8cc4"
      },
      "execution_count": 7,
      "outputs": [
        {
          "output_type": "execute_result",
          "data": {
            "text/plain": [
              "1003"
            ]
          },
          "metadata": {},
          "execution_count": 7
        }
      ]
    },
    {
      "cell_type": "code",
      "source": [
        "for file in os.listdir('/content')"
      ],
      "metadata": {
        "id": "u9mNXsbkWoBy"
      },
      "execution_count": null,
      "outputs": []
    },
    {
      "cell_type": "code",
      "source": [
        "#importar bibliotecas necessárias\n",
        "\n",
        "import os  # biblioteca para manipular arquivos/pastas/caminhos do sistema operacional\n",
        "import numpy as np  # biblioteca para manipular números\n",
        "import cv2  # biblioteca para processamento de imagens\n",
        "from sklearn.model_selection import train_test_split  # biblioteca para fazer o holdout dos dados (dividir entre conjunto de treino e teste)"
      ],
      "metadata": {
        "id": "qPz7uGi4tCSM"
      },
      "execution_count": 3,
      "outputs": []
    },
    {
      "cell_type": "code",
      "source": [
        "# Defina o diretório de onde as imagens foram baixadas\n",
        "dataset_dir = 'https://github.com/marcospaulofg/Data-Science/tree/main/ds/img'  # caminho do dataset\n",
        "\n",
        "# Função para carregar as imagens\n",
        "def load_images(dataset_dir):\n",
        "    images = []  # cria uma lista vazia para armazenar as imagens\n",
        "    labels = []  # cria uma lista vazia para armazenar o nome correspondente a cada imagem\n",
        "\n",
        "    # Percorre os diretórios e carrega as imagens\n",
        "    for arq in os.listdir(dataset_dir):  # para cada arquivo no caminho do dataset faça:\n",
        "      img_path = os.path.join(dataset_dir, arq)  # img_patch é o caminho completo de cada arquivo\n",
        "      img = cv2.imread(img_path)  # lê cada imagem com o cv2\n",
        "      img = cv2.resize(img, (224, 224))  # Redimensiona as imagens para 224x224\n",
        "      img = img / 255.0  # Normaliza a imagem para a faixa [0, 1]\n",
        "      images.append(img)  # adiciona cada imagem na lista imagens\n",
        "      labels.append(arq)  # adiciona cada nome de arquivo na lista de labels\n",
        "\n",
        "    return np.array(images), np.array(labels)"
      ],
      "metadata": {
        "id": "JxEsj7VBtHXR"
      },
      "execution_count": null,
      "outputs": []
    },
    {
      "cell_type": "code",
      "source": [
        "images, labels = load_images(dataset_dir)"
      ],
      "metadata": {
        "colab": {
          "base_uri": "https://localhost:8080/",
          "height": 263
        },
        "id": "icIdjKmKtoPH",
        "outputId": "6d0aa86c-c579-479d-9674-b7b3c6c186b4"
      },
      "execution_count": null,
      "outputs": [
        {
          "output_type": "error",
          "ename": "FileNotFoundError",
          "evalue": "[Errno 2] No such file or directory: 'https://drive.google.com/drive/folders/1hrwqnbEjdkgD3ujLdTxMaJ8vrJhdrBWA'",
          "traceback": [
            "\u001b[0;31m---------------------------------------------------------------------------\u001b[0m",
            "\u001b[0;31mFileNotFoundError\u001b[0m                         Traceback (most recent call last)",
            "\u001b[0;32m<ipython-input-12-97d673ee8587>\u001b[0m in \u001b[0;36m<cell line: 1>\u001b[0;34m()\u001b[0m\n\u001b[0;32m----> 1\u001b[0;31m \u001b[0mimages\u001b[0m\u001b[0;34m,\u001b[0m \u001b[0mlabels\u001b[0m \u001b[0;34m=\u001b[0m \u001b[0mload_images\u001b[0m\u001b[0;34m(\u001b[0m\u001b[0mdataset_dir\u001b[0m\u001b[0;34m)\u001b[0m\u001b[0;34m\u001b[0m\u001b[0;34m\u001b[0m\u001b[0m\n\u001b[0m",
            "\u001b[0;32m<ipython-input-11-53f0d3a59c15>\u001b[0m in \u001b[0;36mload_images\u001b[0;34m(dataset_dir)\u001b[0m\n\u001b[1;32m      8\u001b[0m \u001b[0;34m\u001b[0m\u001b[0m\n\u001b[1;32m      9\u001b[0m     \u001b[0;31m# Percorre os diretórios e carrega as imagens\u001b[0m\u001b[0;34m\u001b[0m\u001b[0;34m\u001b[0m\u001b[0m\n\u001b[0;32m---> 10\u001b[0;31m     \u001b[0;32mfor\u001b[0m \u001b[0marq\u001b[0m \u001b[0;32min\u001b[0m \u001b[0mos\u001b[0m\u001b[0;34m.\u001b[0m\u001b[0mlistdir\u001b[0m\u001b[0;34m(\u001b[0m\u001b[0mdataset_dir\u001b[0m\u001b[0;34m)\u001b[0m\u001b[0;34m:\u001b[0m  \u001b[0;31m# para cada arquivo no caminho do dataset faça:\u001b[0m\u001b[0;34m\u001b[0m\u001b[0;34m\u001b[0m\u001b[0m\n\u001b[0m\u001b[1;32m     11\u001b[0m       \u001b[0mimg_path\u001b[0m \u001b[0;34m=\u001b[0m \u001b[0mos\u001b[0m\u001b[0;34m.\u001b[0m\u001b[0mpath\u001b[0m\u001b[0;34m.\u001b[0m\u001b[0mjoin\u001b[0m\u001b[0;34m(\u001b[0m\u001b[0mdataset_dir\u001b[0m\u001b[0;34m,\u001b[0m \u001b[0marq\u001b[0m\u001b[0;34m)\u001b[0m  \u001b[0;31m# img_patch é o caminho completo de cada arquivo\u001b[0m\u001b[0;34m\u001b[0m\u001b[0;34m\u001b[0m\u001b[0m\n\u001b[1;32m     12\u001b[0m       \u001b[0mimg\u001b[0m \u001b[0;34m=\u001b[0m \u001b[0mcv2\u001b[0m\u001b[0;34m.\u001b[0m\u001b[0mimread\u001b[0m\u001b[0;34m(\u001b[0m\u001b[0mimg_path\u001b[0m\u001b[0;34m)\u001b[0m  \u001b[0;31m# lê cada imagem com o cv2\u001b[0m\u001b[0;34m\u001b[0m\u001b[0;34m\u001b[0m\u001b[0m\n",
            "\u001b[0;31mFileNotFoundError\u001b[0m: [Errno 2] No such file or directory: 'https://drive.google.com/drive/folders/1hrwqnbEjdkgD3ujLdTxMaJ8vrJhdrBWA'"
          ]
        }
      ]
    },
    {
      "cell_type": "code",
      "source": [
        "os.listdir(dataset_dir)"
      ],
      "metadata": {
        "colab": {
          "base_uri": "https://localhost:8080/",
          "height": 141
        },
        "id": "VsIzkIvduoRA",
        "outputId": "2694125a-4ab3-4a43-e54f-cd13e1888470"
      },
      "execution_count": null,
      "outputs": [
        {
          "output_type": "error",
          "ename": "FileNotFoundError",
          "evalue": "[Errno 2] No such file or directory: 'https://github.com/marcospaulofg/Data-Science/tree/main/ds/img'",
          "traceback": [
            "\u001b[0;31m---------------------------------------------------------------------------\u001b[0m",
            "\u001b[0;31mFileNotFoundError\u001b[0m                         Traceback (most recent call last)",
            "\u001b[0;32m<ipython-input-5-71edb8cbcc24>\u001b[0m in \u001b[0;36m<cell line: 1>\u001b[0;34m()\u001b[0m\n\u001b[0;32m----> 1\u001b[0;31m \u001b[0mos\u001b[0m\u001b[0;34m.\u001b[0m\u001b[0mlistdir\u001b[0m\u001b[0;34m(\u001b[0m\u001b[0mdataset_dir\u001b[0m\u001b[0;34m)\u001b[0m\u001b[0;34m\u001b[0m\u001b[0;34m\u001b[0m\u001b[0m\n\u001b[0m",
            "\u001b[0;31mFileNotFoundError\u001b[0m: [Errno 2] No such file or directory: 'https://github.com/marcospaulofg/Data-Science/tree/main/ds/img'"
          ]
        }
      ]
    },
    {
      "cell_type": "code",
      "source": [
        "len(sorted(os.listdir('/content')))\n"
      ],
      "metadata": {
        "colab": {
          "base_uri": "https://localhost:8080/"
        },
        "id": "4yZoFwmIQEj3",
        "outputId": "0aa69588-4e7a-4a8a-916e-ec6d1f5df80a"
      },
      "execution_count": 5,
      "outputs": [
        {
          "output_type": "execute_result",
          "data": {
            "text/plain": [
              "1003"
            ]
          },
          "metadata": {},
          "execution_count": 5
        }
      ]
    },
    {
      "cell_type": "code",
      "source": [
        "os.listdir(dataset_dir)[0]\n",
        "img_path = os.path.join(dataset_dir, os.listdir(dataset_dir)[0])\n",
        "img = cv2.imread(img_path)\n",
        "img = cv2.resize(img, (224, 224))  # Redimensiona as imagens para 224x224\n",
        "img = img / 255.0  # Normaliza a imagem para a faixa [0, 1]\n",
        "img"
      ],
      "metadata": {
        "colab": {
          "base_uri": "https://localhost:8080/"
        },
        "id": "lcO0wl2a0LGM",
        "outputId": "20f855a1-097a-4227-873c-8f7c21874f72"
      },
      "execution_count": null,
      "outputs": [
        {
          "output_type": "execute_result",
          "data": {
            "text/plain": [
              "array([[[0.60392157, 0.54901961, 0.47843137],\n",
              "        [0.55294118, 0.52941176, 0.45490196],\n",
              "        [0.51372549, 0.51372549, 0.43137255],\n",
              "        ...,\n",
              "        [0.9254902 , 0.84705882, 0.69803922],\n",
              "        [0.93333333, 0.84313725, 0.67843137],\n",
              "        [0.96078431, 0.85490196, 0.69803922]],\n",
              "\n",
              "       [[0.58823529, 0.54901961, 0.47843137],\n",
              "        [0.60392157, 0.56470588, 0.48235294],\n",
              "        [0.54509804, 0.55294118, 0.45490196],\n",
              "        ...,\n",
              "        [0.97254902, 0.92941176, 0.82352941],\n",
              "        [0.9254902 , 0.85882353, 0.73333333],\n",
              "        [0.90980392, 0.84313725, 0.71372549]],\n",
              "\n",
              "       [[0.58039216, 0.56470588, 0.48627451],\n",
              "        [0.71372549, 0.63921569, 0.5372549 ],\n",
              "        [0.83137255, 0.86666667, 0.78431373],\n",
              "        ...,\n",
              "        [1.        , 0.99607843, 0.93333333],\n",
              "        [0.98431373, 0.95294118, 0.88235294],\n",
              "        [0.9372549 , 0.91372549, 0.83137255]],\n",
              "\n",
              "       ...,\n",
              "\n",
              "       [[0.24705882, 0.34509804, 0.32941176],\n",
              "        [0.24705882, 0.32156863, 0.31764706],\n",
              "        [0.23529412, 0.30196078, 0.30588235],\n",
              "        ...,\n",
              "        [0.5372549 , 0.4627451 , 0.43529412],\n",
              "        [0.50196078, 0.43529412, 0.41960784],\n",
              "        [0.46666667, 0.40784314, 0.39215686]],\n",
              "\n",
              "       [[0.25098039, 0.32156863, 0.31764706],\n",
              "        [0.23529412, 0.30588235, 0.30196078],\n",
              "        [0.23137255, 0.29411765, 0.29803922],\n",
              "        ...,\n",
              "        [0.65098039, 0.57647059, 0.54901961],\n",
              "        [0.59607843, 0.53333333, 0.51372549],\n",
              "        [0.55686275, 0.49803922, 0.48235294]],\n",
              "\n",
              "       [[0.23921569, 0.30588235, 0.30196078],\n",
              "        [0.23529412, 0.29803922, 0.29411765],\n",
              "        [0.21960784, 0.28235294, 0.28627451],\n",
              "        ...,\n",
              "        [0.70196078, 0.62352941, 0.59607843],\n",
              "        [0.66666667, 0.6       , 0.58431373],\n",
              "        [0.61568627, 0.54901961, 0.5372549 ]]])"
            ]
          },
          "metadata": {},
          "execution_count": 63
        }
      ]
    },
    {
      "cell_type": "code",
      "source": [],
      "metadata": {
        "id": "BKyyZTt7O0uz"
      },
      "execution_count": null,
      "outputs": []
    },
    {
      "cell_type": "code",
      "source": [],
      "metadata": {
        "id": "txA5JQuT3m1o"
      },
      "execution_count": null,
      "outputs": []
    }
  ]
}